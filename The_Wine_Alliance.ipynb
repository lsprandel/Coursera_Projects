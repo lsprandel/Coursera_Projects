{
 "cells": [
  {
   "cell_type": "markdown",
   "metadata": {},
   "source": [
    "# <center>Applied Data Science - Coursera</center>\n",
    "## <center>Capstone Project Course</center>\n",
    "*<center>by Leopoldo Sprandel</center>*\n",
    "\n",
    "\n",
    "### Business Problem\n",
    "In May 25th we celebrate the National Wine Day in Brazil. All enthusiasts participates on a two weeks of appreciation, learning sections and winery visits around the country. \n",
    "This event promotes the interchange of producers, wine shops and consumers moving all economy around the wine.  \n",
    "The tourism in the city of São Paulo is in the rout of the event.  \n",
    "Now imagine we want to choose some Wine Shops in the city to organize a large alliance between them to promote the consumers interchange over the Wine shops.  \n",
    "The Wine shops need to be well known and we are looking for somehow connections between them.\n",
    "\n",
    "### Data\n",
    "The data we choose to select the wine shops that can participate on this alliance are the stores with high recommendations and are part of a network based on the public. \n",
    "\n",
    "So, we need to answer two questions:  \n",
    "- Which wine shops in São Paulo are best evaluated?\n",
    "- Is the wine shops connected? Which winery shares the same public?  \n",
    "\n",
    "To answer these questions we can analyze the wine shops listed in the Foursquare API in the city of São Paulo, regarding the following points:\n",
    "- Check the rank of wine shops (the first 50th)  \n",
    "\n",
    "| Wine Store | Ranking  |  \n",
    "|------|------|  \n",
    "|   WineShopA  | 1|  \n",
    "|   WineShopB  | 2|  \n",
    "|   WineShopC  | 3|  \n",
    "|   WineShopC  | 4|  \n",
    "|   WineShopD  | ...|  \n",
    "|   WineShopX  | 50|  \n",
    "\n",
    "- A network representation can be done connecting stores who shares the same consumer (signalised by the likes).\n",
    "\n",
    "| Wine Store | Conections  |  \n",
    "|------|------|  \n",
    "|   WineShopA  | WineShopB, WineShopC|  \n",
    "|   WineShopB  | WineShopA, WineShopC, WineShopD, WineShopX|  \n",
    "|   WineShopC  | ...|   \n"
   ]
  },
  {
   "cell_type": "code",
   "execution_count": null,
   "metadata": {},
   "outputs": [],
   "source": []
  },
  {
   "cell_type": "code",
   "execution_count": null,
   "metadata": {},
   "outputs": [],
   "source": []
  }
 ],
 "metadata": {
  "kernelspec": {
   "display_name": "Python 3",
   "language": "python",
   "name": "python3"
  },
  "language_info": {
   "codemirror_mode": {
    "name": "ipython",
    "version": 3
   },
   "file_extension": ".py",
   "mimetype": "text/x-python",
   "name": "python",
   "nbconvert_exporter": "python",
   "pygments_lexer": "ipython3",
   "version": "3.7.1"
  }
 },
 "nbformat": 4,
 "nbformat_minor": 2
}
